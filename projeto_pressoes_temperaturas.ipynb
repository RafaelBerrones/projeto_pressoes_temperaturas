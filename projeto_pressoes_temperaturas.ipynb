{
  "nbformat": 4,
  "nbformat_minor": 0,
  "metadata": {
    "colab": {
      "provenance": []
    },
    "kernelspec": {
      "name": "python3",
      "display_name": "Python 3"
    },
    "language_info": {
      "name": "python"
    }
  },
  "cells": [
    {
      "cell_type": "code",
      "execution_count": null,
      "metadata": {
        "colab": {
          "base_uri": "https://localhost:8080/"
        },
        "id": "IYJBr8ZSfNc4",
        "outputId": "01c09893-1a45-45c9-d6e0-c8a5d45615cd"
      },
      "outputs": [
        {
          "output_type": "stream",
          "name": "stdout",
          "text": [
            "division by zero: A 2° lista não pode possuir um valor igual a 0\n"
          ]
        }
      ],
      "source": [
        "pressoes = [100, 120, 140, 160, 180]\n",
        "temperaturas = [20, 25, 0, 35, 40]\n",
        "\n",
        "\n",
        "def divide_colunas(lista_1: list, lista_2: list) -> list:\n",
        "  try:\n",
        "    if len(lista_1) != len(lista_2):\n",
        "      raise ValueError('As listas precisam ter o mesmo tamanho!')\n",
        "\n",
        "    resultado = [round(a / b, 2) for a, b in zip(lista_1, lista_2)]\n",
        "  except ValueError as e:\n",
        "    print(e)\n",
        "  except ZeroDivisionError as e:\n",
        "    print(f'{e}: A 2° lista não pode possuir um valor igual a 0')\n",
        "  else:\n",
        "    return resultado\n",
        "\n",
        "\n",
        "divide_colunas(pressoes, temperaturas)"
      ]
    }
  ]
}